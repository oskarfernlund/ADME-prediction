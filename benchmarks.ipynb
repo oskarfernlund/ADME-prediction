{
 "cells": [
  {
   "attachments": {},
   "cell_type": "markdown",
   "metadata": {},
   "source": [
    "# Bing bong.\n",
    "\n",
    "### Imports & Dependencies"
   ]
  }
 ],
 "metadata": {
  "kernelspec": {
   "display_name": "adme-prediction-rGzpBpdE-py3.10",
   "language": "python",
   "name": "python3"
  },
  "language_info": {
   "name": "python",
   "version": "3.10.7 (main, Oct 17 2022, 10:41:47) [Clang 14.0.0 (clang-1400.0.29.102)]"
  },
  "orig_nbformat": 4,
  "vscode": {
   "interpreter": {
    "hash": "31556700790117fb00b0b3a7cd97b96ba44a3a25b364a129e0713b437916ed72"
   }
  }
 },
 "nbformat": 4,
 "nbformat_minor": 2
}
